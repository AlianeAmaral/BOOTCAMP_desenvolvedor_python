nome = "João Pessoa"
print("Olá", nome, "! Seja bem-vindo(a) !")
